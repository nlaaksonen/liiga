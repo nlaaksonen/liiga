{
 "cells": [
  {
   "cell_type": "markdown",
   "id": "synthetic-mouth",
   "metadata": {},
   "source": [
    "# Liiga - Data Cleaning and Feature Engineering\n",
    "\n",
    "> *Please note that this notebook is work in progress.*\n",
    "\n",
    "1. [Scraping and Preprocessing](#1)<br>\n",
    "    1.1 [Regular season data](#1-1)<br>\n",
    "    1.2 [Player rankings](#1-2)<br>\n",
    "    1.3 [Game results](#1-3)<br>\n",
    "    1.4 [Target variable](#1-4)\n",
    "\n",
    "This notebook is part of our [series](https://github.com/nlaaksonen/liiga) to build a model to predict\n",
    "the champion of the Finnish ice hockey league Liiga based on regular season statistics.\n",
    "\n",
    "In this notebook our aim is to process and clean up the data that we have scraped from [Liiga's official website](https://www.liiga.fi/fi/) and turn it into a form where we can directly feed it into `sklearn` and `XGboost` models. We will also briefly look at some interesting trends visible in the data, but we'll leave a more thorough analysis to the followup notebook."
   ]
  },
  {
   "cell_type": "code",
   "execution_count": 1,
   "id": "structured-fundamental",
   "metadata": {},
   "outputs": [],
   "source": [
    "import numpy as np\n",
    "import pandas as pd\n",
    "import pickle\n",
    "import requests\n",
    "import matplotlib.pyplot as plt\n",
    "from bs4 import BeautifulSoup\n",
    "\n",
    "pd.options.display.max_rows = 15"
   ]
  },
  {
   "cell_type": "markdown",
   "id": "chicken-elite",
   "metadata": {},
   "source": [
    "## 1. Scraping and Preprocessing<a id='1'></a>\n",
    "\n",
    "There are three main types of data we'll use. These are the statistics after the regular season has finished (ranking, wins, losses, goals, conceded goals etc.), statistics for individual players (mainly goals scored and penalty minutes) and results for individual games of the season (we're mainly interested in the last 3 games of the season for each team).\n",
    "\n",
    "Each of the above datasets is scraped from the official website with a helper class `LiigaScraper` (by using `requests` and `BeautifulSoup`) that we have built in [liiga_scraper.py](liiga_scraper.py). An example of how to use this class is provided in [scrape_data.py](scrape_data.py). We have already performed the data retrieval beforehand and stored the resulting pandas DataFrame in pickled files (not provided). In this section we'll load this data and process it into a usable form. Finally, we'll also retrieve the data for our target variable (the winner of each season) directly from [Wikipedia](https://en.wikipedia.org/wiki/Liiga).\n",
    "\n",
    "### 1.1 Regular season data<a id='1-1'></a>\n",
    "\n",
    "The `LiigaScraper` class stores a single DataFrame that corresponds to one of the types of statistics outlined above (`LiigaScraper.type`) for a given year (i.e. it is the output from a single web page). The pickled file that we load below then contains simply all of these DataFrames concatenated together in a naive way. We'll begin processing our data from there."
   ]
  },
  {
   "cell_type": "code",
   "execution_count": 2,
   "id": "above-penny",
   "metadata": {},
   "outputs": [],
   "source": [
    "series_data_file_name = 'liiga_stats_series_20210530_120928.pkl'\n",
    "\n",
    "with open(series_data_file_name, 'rb') as f:\n",
    "    series_data = pickle.load(f)"
   ]
  },
  {
   "cell_type": "code",
   "execution_count": 3,
   "id": "horizontal-probability",
   "metadata": {},
   "outputs": [
    {
     "data": {
      "text/html": [
       "<div>\n",
       "<style scoped>\n",
       "    .dataframe tbody tr th:only-of-type {\n",
       "        vertical-align: middle;\n",
       "    }\n",
       "\n",
       "    .dataframe tbody tr th {\n",
       "        vertical-align: top;\n",
       "    }\n",
       "\n",
       "    .dataframe thead th {\n",
       "        text-align: right;\n",
       "    }\n",
       "</style>\n",
       "<table border=\"1\" class=\"dataframe\">\n",
       "  <thead>\n",
       "    <tr style=\"text-align: right;\">\n",
       "      <th></th>\n",
       "      <th>Rank</th>\n",
       "      <th>Team</th>\n",
       "      <th>Matches</th>\n",
       "      <th>Wins</th>\n",
       "      <th>Draws</th>\n",
       "      <th>Losses</th>\n",
       "      <th>Goals</th>\n",
       "      <th>ConcededGoals</th>\n",
       "      <th>OvertimeWins</th>\n",
       "      <th>Points</th>\n",
       "      <th>PointsPerGame</th>\n",
       "      <th>PP</th>\n",
       "      <th>PK</th>\n",
       "      <th>Year</th>\n",
       "      <th>Series</th>\n",
       "    </tr>\n",
       "  </thead>\n",
       "  <tbody>\n",
       "    <tr>\n",
       "      <th>count</th>\n",
       "      <td>505</td>\n",
       "      <td>505</td>\n",
       "      <td>505</td>\n",
       "      <td>505</td>\n",
       "      <td>505</td>\n",
       "      <td>505</td>\n",
       "      <td>505</td>\n",
       "      <td>505</td>\n",
       "      <td>505</td>\n",
       "      <td>505</td>\n",
       "      <td>505</td>\n",
       "      <td>505</td>\n",
       "      <td>505</td>\n",
       "      <td>505</td>\n",
       "      <td>505</td>\n",
       "    </tr>\n",
       "    <tr>\n",
       "      <th>unique</th>\n",
       "      <td>15</td>\n",
       "      <td>25</td>\n",
       "      <td>11</td>\n",
       "      <td>36</td>\n",
       "      <td>23</td>\n",
       "      <td>36</td>\n",
       "      <td>114</td>\n",
       "      <td>125</td>\n",
       "      <td>16</td>\n",
       "      <td>113</td>\n",
       "      <td>144</td>\n",
       "      <td>82</td>\n",
       "      <td>88</td>\n",
       "      <td>40</td>\n",
       "      <td>1</td>\n",
       "    </tr>\n",
       "    <tr>\n",
       "      <th>top</th>\n",
       "      <td>9.</td>\n",
       "      <td>Tappara</td>\n",
       "      <td>60</td>\n",
       "      <td>21</td>\n",
       "      <td>8</td>\n",
       "      <td>20</td>\n",
       "      <td>153</td>\n",
       "      <td>136</td>\n",
       "      <td>0</td>\n",
       "      <td>49</td>\n",
       "      <td>1,000</td>\n",
       "      <td>0,00%</td>\n",
       "      <td>0,00%</td>\n",
       "      <td>2017</td>\n",
       "      <td>runkosarja</td>\n",
       "    </tr>\n",
       "    <tr>\n",
       "      <th>freq</th>\n",
       "      <td>40</td>\n",
       "      <td>40</td>\n",
       "      <td>131</td>\n",
       "      <td>34</td>\n",
       "      <td>38</td>\n",
       "      <td>33</td>\n",
       "      <td>14</td>\n",
       "      <td>12</td>\n",
       "      <td>78</td>\n",
       "      <td>15</td>\n",
       "      <td>14</td>\n",
       "      <td>416</td>\n",
       "      <td>416</td>\n",
       "      <td>15</td>\n",
       "      <td>505</td>\n",
       "    </tr>\n",
       "  </tbody>\n",
       "</table>\n",
       "</div>"
      ],
      "text/plain": [
       "       Rank     Team Matches Wins Draws Losses Goals ConcededGoals  \\\n",
       "count   505      505     505  505   505    505   505           505   \n",
       "unique   15       25      11   36    23     36   114           125   \n",
       "top      9.  Tappara      60   21     8     20   153           136   \n",
       "freq     40       40     131   34    38     33    14            12   \n",
       "\n",
       "       OvertimeWins Points PointsPerGame     PP     PK  Year      Series  \n",
       "count           505    505           505    505    505   505         505  \n",
       "unique           16    113           144     82     88    40           1  \n",
       "top               0     49         1,000  0,00%  0,00%  2017  runkosarja  \n",
       "freq             78     15            14    416    416    15         505  "
      ]
     },
     "execution_count": 3,
     "metadata": {},
     "output_type": "execute_result"
    }
   ],
   "source": [
    "series_data.describe()"
   ]
  },
  {
   "cell_type": "code",
   "execution_count": 4,
   "id": "greek-joining",
   "metadata": {},
   "outputs": [
    {
     "data": {
      "text/html": [
       "<div>\n",
       "<style scoped>\n",
       "    .dataframe tbody tr th:only-of-type {\n",
       "        vertical-align: middle;\n",
       "    }\n",
       "\n",
       "    .dataframe tbody tr th {\n",
       "        vertical-align: top;\n",
       "    }\n",
       "\n",
       "    .dataframe thead th {\n",
       "        text-align: right;\n",
       "    }\n",
       "</style>\n",
       "<table border=\"1\" class=\"dataframe\">\n",
       "  <thead>\n",
       "    <tr style=\"text-align: right;\">\n",
       "      <th></th>\n",
       "      <th>Rank</th>\n",
       "      <th>Team</th>\n",
       "      <th>Matches</th>\n",
       "      <th>Wins</th>\n",
       "      <th>Draws</th>\n",
       "      <th>Losses</th>\n",
       "      <th>Goals</th>\n",
       "      <th>ConcededGoals</th>\n",
       "      <th>OvertimeWins</th>\n",
       "      <th>Points</th>\n",
       "      <th>PointsPerGame</th>\n",
       "      <th>PP</th>\n",
       "      <th>PK</th>\n",
       "      <th>Year</th>\n",
       "      <th>Series</th>\n",
       "    </tr>\n",
       "  </thead>\n",
       "  <tbody>\n",
       "    <tr>\n",
       "      <th>0</th>\n",
       "      <td>1.</td>\n",
       "      <td>Tappara</td>\n",
       "      <td>36</td>\n",
       "      <td>26</td>\n",
       "      <td>2</td>\n",
       "      <td>8</td>\n",
       "      <td>184</td>\n",
       "      <td>115</td>\n",
       "      <td>-</td>\n",
       "      <td>54</td>\n",
       "      <td>1,500</td>\n",
       "      <td>0,00%</td>\n",
       "      <td>0,00%</td>\n",
       "      <td>1980</td>\n",
       "      <td>runkosarja</td>\n",
       "    </tr>\n",
       "    <tr>\n",
       "      <th>1</th>\n",
       "      <td>2.</td>\n",
       "      <td>TPS</td>\n",
       "      <td>36</td>\n",
       "      <td>22</td>\n",
       "      <td>5</td>\n",
       "      <td>9</td>\n",
       "      <td>213</td>\n",
       "      <td>141</td>\n",
       "      <td>-</td>\n",
       "      <td>49</td>\n",
       "      <td>1,360</td>\n",
       "      <td>0,00%</td>\n",
       "      <td>0,00%</td>\n",
       "      <td>1980</td>\n",
       "      <td>runkosarja</td>\n",
       "    </tr>\n",
       "    <tr>\n",
       "      <th>2</th>\n",
       "      <td>3.</td>\n",
       "      <td>Kärpät</td>\n",
       "      <td>36</td>\n",
       "      <td>23</td>\n",
       "      <td>3</td>\n",
       "      <td>10</td>\n",
       "      <td>196</td>\n",
       "      <td>129</td>\n",
       "      <td>-</td>\n",
       "      <td>49</td>\n",
       "      <td>1,360</td>\n",
       "      <td>0,00%</td>\n",
       "      <td>0,00%</td>\n",
       "      <td>1980</td>\n",
       "      <td>runkosarja</td>\n",
       "    </tr>\n",
       "    <tr>\n",
       "      <th>3</th>\n",
       "      <td>4.</td>\n",
       "      <td>Ässät</td>\n",
       "      <td>36</td>\n",
       "      <td>20</td>\n",
       "      <td>2</td>\n",
       "      <td>14</td>\n",
       "      <td>178</td>\n",
       "      <td>158</td>\n",
       "      <td>-</td>\n",
       "      <td>42</td>\n",
       "      <td>1,170</td>\n",
       "      <td>0,00%</td>\n",
       "      <td>0,00%</td>\n",
       "      <td>1980</td>\n",
       "      <td>runkosarja</td>\n",
       "    </tr>\n",
       "    <tr>\n",
       "      <th>4</th>\n",
       "      <td>5.</td>\n",
       "      <td>HIFK</td>\n",
       "      <td>36</td>\n",
       "      <td>17</td>\n",
       "      <td>4</td>\n",
       "      <td>15</td>\n",
       "      <td>166</td>\n",
       "      <td>158</td>\n",
       "      <td>-</td>\n",
       "      <td>38</td>\n",
       "      <td>1,060</td>\n",
       "      <td>0,00%</td>\n",
       "      <td>0,00%</td>\n",
       "      <td>1980</td>\n",
       "      <td>runkosarja</td>\n",
       "    </tr>\n",
       "  </tbody>\n",
       "</table>\n",
       "</div>"
      ],
      "text/plain": [
       "  Rank     Team Matches Wins Draws Losses Goals ConcededGoals OvertimeWins  \\\n",
       "0   1.  Tappara      36   26     2      8   184           115            -   \n",
       "1   2.      TPS      36   22     5      9   213           141            -   \n",
       "2   3.   Kärpät      36   23     3     10   196           129            -   \n",
       "3   4.    Ässät      36   20     2     14   178           158            -   \n",
       "4   5.     HIFK      36   17     4     15   166           158            -   \n",
       "\n",
       "  Points PointsPerGame     PP     PK  Year      Series  \n",
       "0     54         1,500  0,00%  0,00%  1980  runkosarja  \n",
       "1     49         1,360  0,00%  0,00%  1980  runkosarja  \n",
       "2     49         1,360  0,00%  0,00%  1980  runkosarja  \n",
       "3     42         1,170  0,00%  0,00%  1980  runkosarja  \n",
       "4     38         1,060  0,00%  0,00%  1980  runkosarja  "
      ]
     },
     "execution_count": 4,
     "metadata": {},
     "output_type": "execute_result"
    }
   ],
   "source": [
    "series_data.head()"
   ]
  },
  {
   "cell_type": "code",
   "execution_count": 5,
   "id": "political-ordinance",
   "metadata": {},
   "outputs": [
    {
     "data": {
      "text/plain": [
       "Int64Index([0, 1, 2, 3, 4, 5, 6, 7, 8, 9, 10, 11, 12, 13, 14], dtype='int64')"
      ]
     },
     "execution_count": 5,
     "metadata": {},
     "output_type": "execute_result"
    }
   ],
   "source": [
    "series_data.index.unique()"
   ]
  },
  {
   "cell_type": "markdown",
   "id": "cooperative-humidity",
   "metadata": {},
   "source": [
    "We can see that there's quite a bit of cleaning to do. First we notice that the concatenation was not done in a very clever way so that the index is all messed up. Next, observe that the **PP** (power play percentage) and **PK** (penalty killing percentage) columns are zero for multiple years. This is because those stats were actually not provided until the 2014 season. Similarly, overtime didn't always exist in the regular season (e.g. above we see the column consists of `-` for the 1980 season), but we won't worry about this and use the 'Wins', 'Draws' and 'Losses' columns instead. We'll also drop the **PointsPerGame** column, which we'll recalculate later to make sure the numbers are computed in a uniform manner."
   ]
  },
  {
   "cell_type": "code",
   "execution_count": 6,
   "id": "medium-thomson",
   "metadata": {},
   "outputs": [],
   "source": [
    "series_data = series_data.reset_index(drop=True)"
   ]
  },
  {
   "cell_type": "markdown",
   "id": "sustained-ontario",
   "metadata": {},
   "source": [
    "To keep the original data intact (just in case), let's copy it into a new dataframe `df`, where the preprocessing will take place."
   ]
  },
  {
   "cell_type": "code",
   "execution_count": 7,
   "id": "steady-pilot",
   "metadata": {},
   "outputs": [],
   "source": [
    "df = series_data.drop(columns=['PointsPerGame', 'PP', 'PK'])"
   ]
  },
  {
   "cell_type": "code",
   "execution_count": 8,
   "id": "stuffed-instrumentation",
   "metadata": {},
   "outputs": [
    {
     "data": {
      "text/plain": [
       "Rank             object\n",
       "Team             object\n",
       "Matches          object\n",
       "Wins             object\n",
       "Draws            object\n",
       "Losses           object\n",
       "Goals            object\n",
       "ConcededGoals    object\n",
       "OvertimeWins     object\n",
       "Points           object\n",
       "Year             object\n",
       "Series           object\n",
       "dtype: object"
      ]
     },
     "execution_count": 8,
     "metadata": {},
     "output_type": "execute_result"
    }
   ],
   "source": [
    "df.dtypes"
   ]
  },
  {
   "cell_type": "markdown",
   "id": "serial-earthquake",
   "metadata": {},
   "source": [
    "Currently, all the columns are of type `object` (which is the default). We'll have to convert the numerical columns to the appropriate type and to remove those pesky dots at the end of each rank."
   ]
  },
  {
   "cell_type": "code",
   "execution_count": 9,
   "id": "connected-federation",
   "metadata": {},
   "outputs": [
    {
     "data": {
      "text/plain": [
       "Rank              int64\n",
       "Team             string\n",
       "Matches           int64\n",
       "Wins              int64\n",
       "Draws             int64\n",
       "Losses            int64\n",
       "Goals             int64\n",
       "ConcededGoals     int64\n",
       "OvertimeWins      int64\n",
       "Points            int64\n",
       "Year              int64\n",
       "Series           string\n",
       "dtype: object"
      ]
     },
     "execution_count": 9,
     "metadata": {},
     "output_type": "execute_result"
    }
   ],
   "source": [
    "num_cols = ['Rank', 'Matches', 'Wins', 'Draws', 'Losses', 'Goals', 'ConcededGoals', 'OvertimeWins', 'Points', 'Year']\n",
    "str_cols = ['Team', 'Series']\n",
    "\n",
    "df['Rank'] = df['Rank'].str.strip('.')\n",
    "df[num_cols] = df[num_cols].replace('-', 0)\n",
    "df[num_cols] = df[num_cols].apply(pd.to_numeric)\n",
    "df[str_cols] = df[str_cols].astype('string')\n",
    "\n",
    "df.dtypes"
   ]
  },
  {
   "cell_type": "code",
   "execution_count": 10,
   "id": "suspended-classic",
   "metadata": {},
   "outputs": [
    {
     "data": {
      "text/plain": [
       "<StringArray>\n",
       "[      'Tappara',           'TPS',        'Kärpät',         'Ässät',\n",
       "          'HIFK',         'Ilves',  'Kiekkoreipas',         'SaiPa',\n",
       "       'Jokerit',         'Lukko',           'HPK',    'Olympia-84',\n",
       "        'JyP HT',         'KalPa',        'KooKoo',          'JoKP',\n",
       " 'Hockey-Reipas',  'Kiekko-Espoo',        'Reipas',          'TuTo',\n",
       "           'JYP',         'Blues',      'Pelicans',         'Sport',\n",
       "       'Jukurit']\n",
       "Length: 25, dtype: string"
      ]
     },
     "execution_count": 10,
     "metadata": {},
     "output_type": "execute_result"
    }
   ],
   "source": [
    "df.Team.unique()"
   ]
  },
  {
   "cell_type": "markdown",
   "id": "mobile-comparative",
   "metadata": {},
   "source": [
    "There are 25 unique team names, but notice that the team JyP HT was later renamed to just JYP. We'll fix this next."
   ]
  },
  {
   "cell_type": "code",
   "execution_count": 11,
   "id": "serial-chrome",
   "metadata": {},
   "outputs": [],
   "source": [
    "df.loc[df.Team == 'JyP HT', 'Team'] = 'JYP'"
   ]
  },
  {
   "cell_type": "markdown",
   "id": "portuguese-blade",
   "metadata": {},
   "source": [
    "At the end of regular season, the 6 top teams qualify directly to playoffs while teams placed between 7th and 10th play qualifiers for the last two playoff slots. In our model we restrict the pool of teams used for the prediction to consist only of the top 6 teams. As we'll see, no team outside the top 6 has ever won the trophy, so we won't lose much predictive power with this simplification."
   ]
  },
  {
   "cell_type": "code",
   "execution_count": 12,
   "id": "western-receiver",
   "metadata": {
    "scrolled": true
   },
   "outputs": [
    {
     "data": {
      "text/html": [
       "<div>\n",
       "<style scoped>\n",
       "    .dataframe tbody tr th:only-of-type {\n",
       "        vertical-align: middle;\n",
       "    }\n",
       "\n",
       "    .dataframe tbody tr th {\n",
       "        vertical-align: top;\n",
       "    }\n",
       "\n",
       "    .dataframe thead th {\n",
       "        text-align: right;\n",
       "    }\n",
       "</style>\n",
       "<table border=\"1\" class=\"dataframe\">\n",
       "  <thead>\n",
       "    <tr style=\"text-align: right;\">\n",
       "      <th>Rank</th>\n",
       "      <th>1</th>\n",
       "      <th>2</th>\n",
       "      <th>3</th>\n",
       "      <th>4</th>\n",
       "      <th>5</th>\n",
       "      <th>6</th>\n",
       "    </tr>\n",
       "    <tr>\n",
       "      <th>Year</th>\n",
       "      <th></th>\n",
       "      <th></th>\n",
       "      <th></th>\n",
       "      <th></th>\n",
       "      <th></th>\n",
       "      <th></th>\n",
       "    </tr>\n",
       "  </thead>\n",
       "  <tbody>\n",
       "    <tr>\n",
       "      <th>1980</th>\n",
       "      <td>Tappara</td>\n",
       "      <td>TPS</td>\n",
       "      <td>Kärpät</td>\n",
       "      <td>Ässät</td>\n",
       "      <td>HIFK</td>\n",
       "      <td>Ilves</td>\n",
       "    </tr>\n",
       "    <tr>\n",
       "      <th>1981</th>\n",
       "      <td>TPS</td>\n",
       "      <td>HIFK</td>\n",
       "      <td>Tappara</td>\n",
       "      <td>Ässät</td>\n",
       "      <td>Kärpät</td>\n",
       "      <td>Kiekkoreipas</td>\n",
       "    </tr>\n",
       "    <tr>\n",
       "      <th>1982</th>\n",
       "      <td>Jokerit</td>\n",
       "      <td>HIFK</td>\n",
       "      <td>Ilves</td>\n",
       "      <td>TPS</td>\n",
       "      <td>Tappara</td>\n",
       "      <td>SaiPa</td>\n",
       "    </tr>\n",
       "    <tr>\n",
       "      <th>1983</th>\n",
       "      <td>Tappara</td>\n",
       "      <td>Ässät</td>\n",
       "      <td>Kärpät</td>\n",
       "      <td>HIFK</td>\n",
       "      <td>TPS</td>\n",
       "      <td>Ilves</td>\n",
       "    </tr>\n",
       "    <tr>\n",
       "      <th>1984</th>\n",
       "      <td>TPS</td>\n",
       "      <td>Kärpät</td>\n",
       "      <td>Ilves</td>\n",
       "      <td>Ässät</td>\n",
       "      <td>HIFK</td>\n",
       "      <td>Tappara</td>\n",
       "    </tr>\n",
       "    <tr>\n",
       "      <th>...</th>\n",
       "      <td>...</td>\n",
       "      <td>...</td>\n",
       "      <td>...</td>\n",
       "      <td>...</td>\n",
       "      <td>...</td>\n",
       "      <td>...</td>\n",
       "    </tr>\n",
       "    <tr>\n",
       "      <th>2014</th>\n",
       "      <td>Kärpät</td>\n",
       "      <td>Tappara</td>\n",
       "      <td>Lukko</td>\n",
       "      <td>JYP</td>\n",
       "      <td>Blues</td>\n",
       "      <td>KalPa</td>\n",
       "    </tr>\n",
       "    <tr>\n",
       "      <th>2015</th>\n",
       "      <td>HIFK</td>\n",
       "      <td>Kärpät</td>\n",
       "      <td>Tappara</td>\n",
       "      <td>JYP</td>\n",
       "      <td>SaiPa</td>\n",
       "      <td>Lukko</td>\n",
       "    </tr>\n",
       "    <tr>\n",
       "      <th>2016</th>\n",
       "      <td>Tappara</td>\n",
       "      <td>TPS</td>\n",
       "      <td>KalPa</td>\n",
       "      <td>JYP</td>\n",
       "      <td>HPK</td>\n",
       "      <td>Pelicans</td>\n",
       "    </tr>\n",
       "    <tr>\n",
       "      <th>2017</th>\n",
       "      <td>Kärpät</td>\n",
       "      <td>TPS</td>\n",
       "      <td>Tappara</td>\n",
       "      <td>JYP</td>\n",
       "      <td>HIFK</td>\n",
       "      <td>KalPa</td>\n",
       "    </tr>\n",
       "    <tr>\n",
       "      <th>2018</th>\n",
       "      <td>Kärpät</td>\n",
       "      <td>Tappara</td>\n",
       "      <td>Pelicans</td>\n",
       "      <td>TPS</td>\n",
       "      <td>HPK</td>\n",
       "      <td>HIFK</td>\n",
       "    </tr>\n",
       "  </tbody>\n",
       "</table>\n",
       "<p>39 rows × 6 columns</p>\n",
       "</div>"
      ],
      "text/plain": [
       "Rank        1        2         3      4        5             6\n",
       "Year                                                          \n",
       "1980  Tappara      TPS    Kärpät  Ässät     HIFK         Ilves\n",
       "1981      TPS     HIFK   Tappara  Ässät   Kärpät  Kiekkoreipas\n",
       "1982  Jokerit     HIFK     Ilves    TPS  Tappara         SaiPa\n",
       "1983  Tappara    Ässät    Kärpät   HIFK      TPS         Ilves\n",
       "1984      TPS   Kärpät     Ilves  Ässät     HIFK       Tappara\n",
       "...       ...      ...       ...    ...      ...           ...\n",
       "2014   Kärpät  Tappara     Lukko    JYP    Blues         KalPa\n",
       "2015     HIFK   Kärpät   Tappara    JYP    SaiPa         Lukko\n",
       "2016  Tappara      TPS     KalPa    JYP      HPK      Pelicans\n",
       "2017   Kärpät      TPS   Tappara    JYP     HIFK         KalPa\n",
       "2018   Kärpät  Tappara  Pelicans    TPS      HPK          HIFK\n",
       "\n",
       "[39 rows x 6 columns]"
      ]
     },
     "execution_count": 12,
     "metadata": {},
     "output_type": "execute_result"
    }
   ],
   "source": [
    "top6 = df[(df.Rank <= 6) & (df.Year <= 2018)]\n",
    "top6_by_year = top6.pivot(index='Year', columns='Rank', values='Team')\n",
    "top6_by_year"
   ]
  },
  {
   "cell_type": "markdown",
   "id": "buried-margin",
   "metadata": {},
   "source": [
    "Let's see how many times each team appears in the top 6."
   ]
  },
  {
   "cell_type": "code",
   "execution_count": 13,
   "id": "invisible-chile",
   "metadata": {},
   "outputs": [
    {
     "data": {
      "text/plain": [
       "HIFK            29\n",
       "TPS             28\n",
       "Tappara         27\n",
       "JYP             21\n",
       "Kärpät          20\n",
       "                ..\n",
       "Blues            6\n",
       "Pelicans         5\n",
       "SaiPa            5\n",
       "Kiekkoreipas     1\n",
       "Kiekko-Espoo     1\n",
       "Length: 16, dtype: Int64"
      ]
     },
     "execution_count": 13,
     "metadata": {},
     "output_type": "execute_result"
    }
   ],
   "source": [
    "top6_by_year.unstack().value_counts()"
   ]
  },
  {
   "cell_type": "markdown",
   "id": "canadian-economics",
   "metadata": {},
   "source": [
    "That's it for processing the regular season data. We'll now move on to individual player statistics."
   ]
  },
  {
   "cell_type": "markdown",
   "id": "removed-cologne",
   "metadata": {},
   "source": [
    "### 1.2 Player rankings<a id='1-2'></a>\n",
    "\n",
    "We want to incorporate data based on the top scorers of the regular season. We can again obtain this via our helper class `LiigaScraper`. Below we load the pre-fetched data from a pickle dump."
   ]
  },
  {
   "cell_type": "code",
   "execution_count": 14,
   "id": "related-being",
   "metadata": {},
   "outputs": [],
   "source": [
    "players_data_file_name = 'liiga_stats_players_20210530_121328.pkl'\n",
    "\n",
    "with open(players_data_file_name, 'rb') as f:\n",
    "    players_data = pickle.load(f)"
   ]
  },
  {
   "cell_type": "code",
   "execution_count": 15,
   "id": "informed-valley",
   "metadata": {
    "scrolled": true
   },
   "outputs": [
    {
     "data": {
      "text/html": [
       "<div>\n",
       "<style scoped>\n",
       "    .dataframe tbody tr th:only-of-type {\n",
       "        vertical-align: middle;\n",
       "    }\n",
       "\n",
       "    .dataframe tbody tr th {\n",
       "        vertical-align: top;\n",
       "    }\n",
       "\n",
       "    .dataframe thead th {\n",
       "        text-align: right;\n",
       "    }\n",
       "</style>\n",
       "<table border=\"1\" class=\"dataframe\">\n",
       "  <thead>\n",
       "    <tr style=\"text-align: right;\">\n",
       "      <th></th>\n",
       "      <th>Nimi</th>\n",
       "      <th>Joukkue</th>\n",
       "      <th>Pelipaikka</th>\n",
       "      <th>Ottelut</th>\n",
       "      <th>Maalit</th>\n",
       "      <th>Syötöt</th>\n",
       "      <th>Pisteet</th>\n",
       "      <th>Rangaistusminuutit</th>\n",
       "      <th>Pluspisteet</th>\n",
       "      <th>Miinuspisteet</th>\n",
       "      <th>Plus-miinus-erotus</th>\n",
       "      <th>Ylivoimamaalit</th>\n",
       "      <th>Alivoimamaalit</th>\n",
       "      <th>Voittomaalit</th>\n",
       "      <th>Laukaukset</th>\n",
       "      <th>Laukausprosentti</th>\n",
       "      <th>Aloitukset</th>\n",
       "      <th>Aloitusprosentti</th>\n",
       "      <th>Keskimäärinen peliaika</th>\n",
       "      <th>Vuosi</th>\n",
       "    </tr>\n",
       "  </thead>\n",
       "  <tbody>\n",
       "    <tr>\n",
       "      <th>0</th>\n",
       "      <td>Leppänen, Reijo</td>\n",
       "      <td>TPS</td>\n",
       "      <td>H</td>\n",
       "      <td>35</td>\n",
       "      <td>31</td>\n",
       "      <td>45</td>\n",
       "      <td>76</td>\n",
       "      <td>12</td>\n",
       "      <td>65</td>\n",
       "      <td>43</td>\n",
       "      <td>22</td>\n",
       "      <td>12</td>\n",
       "      <td>0</td>\n",
       "      <td>4</td>\n",
       "      <td>-</td>\n",
       "      <td>-</td>\n",
       "      <td>-</td>\n",
       "      <td>-</td>\n",
       "      <td>-</td>\n",
       "      <td>1980</td>\n",
       "    </tr>\n",
       "    <tr>\n",
       "      <th>1</th>\n",
       "      <td>Jarkko, Martti</td>\n",
       "      <td>TPS</td>\n",
       "      <td>H</td>\n",
       "      <td>36</td>\n",
       "      <td>29</td>\n",
       "      <td>43</td>\n",
       "      <td>72</td>\n",
       "      <td>35</td>\n",
       "      <td>64</td>\n",
       "      <td>44</td>\n",
       "      <td>20</td>\n",
       "      <td>8</td>\n",
       "      <td>0</td>\n",
       "      <td>3</td>\n",
       "      <td>-</td>\n",
       "      <td>-</td>\n",
       "      <td>-</td>\n",
       "      <td>-</td>\n",
       "      <td>-</td>\n",
       "      <td>1980</td>\n",
       "    </tr>\n",
       "    <tr>\n",
       "      <th>2</th>\n",
       "      <td>Javanainen, Arto</td>\n",
       "      <td>Ässät</td>\n",
       "      <td>H</td>\n",
       "      <td>36</td>\n",
       "      <td>37</td>\n",
       "      <td>27</td>\n",
       "      <td>64</td>\n",
       "      <td>40</td>\n",
       "      <td>73</td>\n",
       "      <td>47</td>\n",
       "      <td>26</td>\n",
       "      <td>7</td>\n",
       "      <td>0</td>\n",
       "      <td>4</td>\n",
       "      <td>-</td>\n",
       "      <td>-</td>\n",
       "      <td>-</td>\n",
       "      <td>-</td>\n",
       "      <td>-</td>\n",
       "      <td>1980</td>\n",
       "    </tr>\n",
       "    <tr>\n",
       "      <th>3</th>\n",
       "      <td>Ketola, Veli-Pekka</td>\n",
       "      <td>Ässät</td>\n",
       "      <td>H</td>\n",
       "      <td>36</td>\n",
       "      <td>23</td>\n",
       "      <td>39</td>\n",
       "      <td>62</td>\n",
       "      <td>61</td>\n",
       "      <td>74</td>\n",
       "      <td>47</td>\n",
       "      <td>27</td>\n",
       "      <td>1</td>\n",
       "      <td>0</td>\n",
       "      <td>4</td>\n",
       "      <td>-</td>\n",
       "      <td>-</td>\n",
       "      <td>-</td>\n",
       "      <td>-</td>\n",
       "      <td>-</td>\n",
       "      <td>1980</td>\n",
       "    </tr>\n",
       "    <tr>\n",
       "      <th>4</th>\n",
       "      <td>Leinonen, Mikko</td>\n",
       "      <td>Kärpät</td>\n",
       "      <td>H</td>\n",
       "      <td>36</td>\n",
       "      <td>16</td>\n",
       "      <td>36</td>\n",
       "      <td>52</td>\n",
       "      <td>43</td>\n",
       "      <td>68</td>\n",
       "      <td>31</td>\n",
       "      <td>37</td>\n",
       "      <td>4</td>\n",
       "      <td>0</td>\n",
       "      <td>2</td>\n",
       "      <td>-</td>\n",
       "      <td>-</td>\n",
       "      <td>-</td>\n",
       "      <td>-</td>\n",
       "      <td>-</td>\n",
       "      <td>1980</td>\n",
       "    </tr>\n",
       "  </tbody>\n",
       "</table>\n",
       "</div>"
      ],
      "text/plain": [
       "                 Nimi Joukkue Pelipaikka Ottelut Maalit Syötöt Pisteet  \\\n",
       "0     Leppänen, Reijo     TPS          H      35     31     45      76   \n",
       "1      Jarkko, Martti     TPS          H      36     29     43      72   \n",
       "2    Javanainen, Arto   Ässät          H      36     37     27      64   \n",
       "3  Ketola, Veli-Pekka   Ässät          H      36     23     39      62   \n",
       "4     Leinonen, Mikko  Kärpät          H      36     16     36      52   \n",
       "\n",
       "  Rangaistusminuutit Pluspisteet Miinuspisteet Plus-miinus-erotus  \\\n",
       "0                 12          65            43                 22   \n",
       "1                 35          64            44                 20   \n",
       "2                 40          73            47                 26   \n",
       "3                 61          74            47                 27   \n",
       "4                 43          68            31                 37   \n",
       "\n",
       "  Ylivoimamaalit Alivoimamaalit Voittomaalit Laukaukset Laukausprosentti  \\\n",
       "0             12              0            4          -                -   \n",
       "1              8              0            3          -                -   \n",
       "2              7              0            4          -                -   \n",
       "3              1              0            4          -                -   \n",
       "4              4              0            2          -                -   \n",
       "\n",
       "  Aloitukset Aloitusprosentti Keskimäärinen peliaika Vuosi  \n",
       "0          -                -                      -  1980  \n",
       "1          -                -                      -  1980  \n",
       "2          -                -                      -  1980  \n",
       "3          -                -                      -  1980  \n",
       "4          -                -                      -  1980  "
      ]
     },
     "execution_count": 15,
     "metadata": {},
     "output_type": "execute_result"
    }
   ],
   "source": [
    "players_data.head()"
   ]
  },
  {
   "cell_type": "markdown",
   "id": "appreciated-tiffany",
   "metadata": {},
   "source": [
    "We see that in this case the column names are returned in Finnish (for this type of data our class infers the column names directly from the html file). For now we'll only keep a few of them and map the names to English."
   ]
  },
  {
   "cell_type": "code",
   "execution_count": 16,
   "id": "single-deviation",
   "metadata": {},
   "outputs": [
    {
     "data": {
      "text/html": [
       "<div>\n",
       "<style scoped>\n",
       "    .dataframe tbody tr th:only-of-type {\n",
       "        vertical-align: middle;\n",
       "    }\n",
       "\n",
       "    .dataframe tbody tr th {\n",
       "        vertical-align: top;\n",
       "    }\n",
       "\n",
       "    .dataframe thead th {\n",
       "        text-align: right;\n",
       "    }\n",
       "</style>\n",
       "<table border=\"1\" class=\"dataframe\">\n",
       "  <thead>\n",
       "    <tr style=\"text-align: right;\">\n",
       "      <th></th>\n",
       "      <th>Name</th>\n",
       "      <th>Team</th>\n",
       "      <th>Games</th>\n",
       "      <th>Points</th>\n",
       "      <th>Year</th>\n",
       "    </tr>\n",
       "  </thead>\n",
       "  <tbody>\n",
       "    <tr>\n",
       "      <th>0</th>\n",
       "      <td>Leppänen, Reijo</td>\n",
       "      <td>TPS</td>\n",
       "      <td>35</td>\n",
       "      <td>76</td>\n",
       "      <td>1980</td>\n",
       "    </tr>\n",
       "    <tr>\n",
       "      <th>1</th>\n",
       "      <td>Jarkko, Martti</td>\n",
       "      <td>TPS</td>\n",
       "      <td>36</td>\n",
       "      <td>72</td>\n",
       "      <td>1980</td>\n",
       "    </tr>\n",
       "    <tr>\n",
       "      <th>2</th>\n",
       "      <td>Javanainen, Arto</td>\n",
       "      <td>Ässät</td>\n",
       "      <td>36</td>\n",
       "      <td>64</td>\n",
       "      <td>1980</td>\n",
       "    </tr>\n",
       "    <tr>\n",
       "      <th>3</th>\n",
       "      <td>Ketola, Veli-Pekka</td>\n",
       "      <td>Ässät</td>\n",
       "      <td>36</td>\n",
       "      <td>62</td>\n",
       "      <td>1980</td>\n",
       "    </tr>\n",
       "    <tr>\n",
       "      <th>4</th>\n",
       "      <td>Leinonen, Mikko</td>\n",
       "      <td>Kärpät</td>\n",
       "      <td>36</td>\n",
       "      <td>52</td>\n",
       "      <td>1980</td>\n",
       "    </tr>\n",
       "    <tr>\n",
       "      <th>...</th>\n",
       "      <td>...</td>\n",
       "      <td>...</td>\n",
       "      <td>...</td>\n",
       "      <td>...</td>\n",
       "      <td>...</td>\n",
       "    </tr>\n",
       "    <tr>\n",
       "      <th>15617</th>\n",
       "      <td>Airola, Santeri\n",
       "  *</td>\n",
       "      <td>SaiPa</td>\n",
       "      <td>2</td>\n",
       "      <td>0</td>\n",
       "      <td>2019</td>\n",
       "    </tr>\n",
       "    <tr>\n",
       "      <th>15618</th>\n",
       "      <td>Ruuskanen, Markus\n",
       "  *</td>\n",
       "      <td>SaiPa</td>\n",
       "      <td>4</td>\n",
       "      <td>0</td>\n",
       "      <td>2019</td>\n",
       "    </tr>\n",
       "    <tr>\n",
       "      <th>15619</th>\n",
       "      <td>Kaskinen, Olli</td>\n",
       "      <td>TPS</td>\n",
       "      <td>16</td>\n",
       "      <td>0</td>\n",
       "      <td>2019</td>\n",
       "    </tr>\n",
       "    <tr>\n",
       "      <th>15620</th>\n",
       "      <td>Heikkilä, Juuso\n",
       "  *</td>\n",
       "      <td>Pelicans</td>\n",
       "      <td>5</td>\n",
       "      <td>0</td>\n",
       "      <td>2019</td>\n",
       "    </tr>\n",
       "    <tr>\n",
       "      <th>15621</th>\n",
       "      <td>Seppälä, Niko\n",
       "  *</td>\n",
       "      <td>Pelicans</td>\n",
       "      <td>10</td>\n",
       "      <td>0</td>\n",
       "      <td>2019</td>\n",
       "    </tr>\n",
       "  </tbody>\n",
       "</table>\n",
       "<p>15622 rows × 5 columns</p>\n",
       "</div>"
      ],
      "text/plain": [
       "                        Name      Team  Games  Points  Year\n",
       "0            Leppänen, Reijo       TPS     35      76  1980\n",
       "1             Jarkko, Martti       TPS     36      72  1980\n",
       "2           Javanainen, Arto     Ässät     36      64  1980\n",
       "3         Ketola, Veli-Pekka     Ässät     36      62  1980\n",
       "4            Leinonen, Mikko    Kärpät     36      52  1980\n",
       "...                      ...       ...    ...     ...   ...\n",
       "15617    Airola, Santeri\n",
       "  *     SaiPa      2       0  2019\n",
       "15618  Ruuskanen, Markus\n",
       "  *     SaiPa      4       0  2019\n",
       "15619         Kaskinen, Olli       TPS     16       0  2019\n",
       "15620    Heikkilä, Juuso\n",
       "  *  Pelicans      5       0  2019\n",
       "15621      Seppälä, Niko\n",
       "  *  Pelicans     10       0  2019\n",
       "\n",
       "[15622 rows x 5 columns]"
      ]
     },
     "execution_count": 16,
     "metadata": {},
     "output_type": "execute_result"
    }
   ],
   "source": [
    "df_players = players_data.reset_index(drop=True)\n",
    "feats = ['Nimi', 'Joukkue', 'Ottelut', 'Pisteet', 'Vuosi']\n",
    "df_players = df_players.loc[:, feats]\n",
    "df_players.rename(columns={'Nimi': 'Name', 'Joukkue': 'Team', 'Ottelut': 'Games', 'Pisteet': 'Points', 'Vuosi': 'Year'}, inplace=True)\n",
    "num_cols = ['Points', 'Games', 'Year']\n",
    "str_cols = ['Name', 'Team']\n",
    "df_players[num_cols] = df_players[num_cols].apply(pd.to_numeric)\n",
    "df_players[str_cols] = df_players[str_cols].astype('string')\n",
    "df_players"
   ]
  },
  {
   "cell_type": "code",
   "execution_count": 17,
   "id": "fundamental-aaron",
   "metadata": {},
   "outputs": [
    {
     "data": {
      "text/plain": [
       "'#\\n  \\n\\n            \\n  \\n    \\n  \\n  \\n    Repik, Michal'"
      ]
     },
     "execution_count": 17,
     "metadata": {},
     "output_type": "execute_result"
    }
   ],
   "source": [
    "df_players.loc[12548, 'Name']"
   ]
  },
  {
   "cell_type": "code",
   "execution_count": 18,
   "id": "ambient-boating",
   "metadata": {},
   "outputs": [
    {
     "data": {
      "text/plain": [
       "'Väinölä, Ville\\n  *+'"
      ]
     },
     "execution_count": 18,
     "metadata": {},
     "output_type": "execute_result"
    }
   ],
   "source": [
    "df_players.loc[12854, 'Name']"
   ]
  },
  {
   "cell_type": "code",
   "execution_count": 19,
   "id": "legendary-dating",
   "metadata": {},
   "outputs": [
    {
     "data": {
      "text/plain": [
       "'Kilpeläinen, Eero\\n+'"
      ]
     },
     "execution_count": 19,
     "metadata": {},
     "output_type": "execute_result"
    }
   ],
   "source": [
    "df_players.loc[12856, 'Name']"
   ]
  },
  {
   "cell_type": "markdown",
   "id": "confirmed-morocco",
   "metadata": {},
   "source": [
    "It seems that some of the names have various extra characters. We'll clean them up (even if we won't use the names for now) with the following regex, where we have to be a bit careful to also keep accented letters which are not part of the latin alphabet."
   ]
  },
  {
   "cell_type": "code",
   "execution_count": 20,
   "id": "artistic-ratio",
   "metadata": {},
   "outputs": [],
   "source": [
    "df_players['Name'] = df_players['Name'].str.replace(\"[^a-zA-Z, \\u0080-\\uFFFF]+\", \"\", regex=True).str.strip()"
   ]
  },
  {
   "cell_type": "markdown",
   "id": "located-alignment",
   "metadata": {},
   "source": [
    "For the feature that we're creating we only want to keep the top 3 scorers for each year (of course this number is something we might have to adjust later when we start building models)."
   ]
  },
  {
   "cell_type": "code",
   "execution_count": 21,
   "id": "integral-evidence",
   "metadata": {},
   "outputs": [
    {
     "data": {
      "text/html": [
       "<div>\n",
       "<style scoped>\n",
       "    .dataframe tbody tr th:only-of-type {\n",
       "        vertical-align: middle;\n",
       "    }\n",
       "\n",
       "    .dataframe tbody tr th {\n",
       "        vertical-align: top;\n",
       "    }\n",
       "\n",
       "    .dataframe thead th {\n",
       "        text-align: right;\n",
       "    }\n",
       "</style>\n",
       "<table border=\"1\" class=\"dataframe\">\n",
       "  <thead>\n",
       "    <tr style=\"text-align: right;\">\n",
       "      <th></th>\n",
       "      <th>Name</th>\n",
       "      <th>Team</th>\n",
       "      <th>Games</th>\n",
       "      <th>Points</th>\n",
       "      <th>Year</th>\n",
       "      <th>Rank</th>\n",
       "    </tr>\n",
       "  </thead>\n",
       "  <tbody>\n",
       "    <tr>\n",
       "      <th>0</th>\n",
       "      <td>Leppänen, Reijo</td>\n",
       "      <td>TPS</td>\n",
       "      <td>35</td>\n",
       "      <td>76</td>\n",
       "      <td>1980</td>\n",
       "      <td>1</td>\n",
       "    </tr>\n",
       "    <tr>\n",
       "      <th>1</th>\n",
       "      <td>Jarkko, Martti</td>\n",
       "      <td>TPS</td>\n",
       "      <td>36</td>\n",
       "      <td>72</td>\n",
       "      <td>1980</td>\n",
       "      <td>2</td>\n",
       "    </tr>\n",
       "    <tr>\n",
       "      <th>2</th>\n",
       "      <td>Javanainen, Arto</td>\n",
       "      <td>Ässät</td>\n",
       "      <td>36</td>\n",
       "      <td>64</td>\n",
       "      <td>1980</td>\n",
       "      <td>3</td>\n",
       "    </tr>\n",
       "    <tr>\n",
       "      <th>3</th>\n",
       "      <td>Leppänen, Reijo</td>\n",
       "      <td>TPS</td>\n",
       "      <td>34</td>\n",
       "      <td>70</td>\n",
       "      <td>1981</td>\n",
       "      <td>1</td>\n",
       "    </tr>\n",
       "    <tr>\n",
       "      <th>4</th>\n",
       "      <td>Jarkko, Martti</td>\n",
       "      <td>TPS</td>\n",
       "      <td>33</td>\n",
       "      <td>62</td>\n",
       "      <td>1981</td>\n",
       "      <td>2</td>\n",
       "    </tr>\n",
       "    <tr>\n",
       "      <th>...</th>\n",
       "      <td>...</td>\n",
       "      <td>...</td>\n",
       "      <td>...</td>\n",
       "      <td>...</td>\n",
       "      <td>...</td>\n",
       "      <td>...</td>\n",
       "    </tr>\n",
       "    <tr>\n",
       "      <th>115</th>\n",
       "      <td>Leskinen, Ville</td>\n",
       "      <td>Kärpät</td>\n",
       "      <td>58</td>\n",
       "      <td>57</td>\n",
       "      <td>2018</td>\n",
       "      <td>2</td>\n",
       "    </tr>\n",
       "    <tr>\n",
       "      <th>116</th>\n",
       "      <td>Turunen, Teemu</td>\n",
       "      <td>HPK</td>\n",
       "      <td>57</td>\n",
       "      <td>54</td>\n",
       "      <td>2018</td>\n",
       "      <td>3</td>\n",
       "    </tr>\n",
       "    <tr>\n",
       "      <th>117</th>\n",
       "      <td>Danforth, Justin</td>\n",
       "      <td>Lukko</td>\n",
       "      <td>56</td>\n",
       "      <td>60</td>\n",
       "      <td>2019</td>\n",
       "      <td>1</td>\n",
       "    </tr>\n",
       "    <tr>\n",
       "      <th>118</th>\n",
       "      <td>Suomi, Eemeli</td>\n",
       "      <td>Ilves</td>\n",
       "      <td>57</td>\n",
       "      <td>57</td>\n",
       "      <td>2019</td>\n",
       "      <td>2</td>\n",
       "    </tr>\n",
       "    <tr>\n",
       "      <th>119</th>\n",
       "      <td>Nättinen, Julius</td>\n",
       "      <td>JYP</td>\n",
       "      <td>54</td>\n",
       "      <td>55</td>\n",
       "      <td>2019</td>\n",
       "      <td>3</td>\n",
       "    </tr>\n",
       "  </tbody>\n",
       "</table>\n",
       "<p>120 rows × 6 columns</p>\n",
       "</div>"
      ],
      "text/plain": [
       "                 Name    Team  Games  Points  Year  Rank\n",
       "0     Leppänen, Reijo     TPS     35      76  1980     1\n",
       "1      Jarkko, Martti     TPS     36      72  1980     2\n",
       "2    Javanainen, Arto   Ässät     36      64  1980     3\n",
       "3     Leppänen, Reijo     TPS     34      70  1981     1\n",
       "4      Jarkko, Martti     TPS     33      62  1981     2\n",
       "..                ...     ...    ...     ...   ...   ...\n",
       "115   Leskinen, Ville  Kärpät     58      57  2018     2\n",
       "116    Turunen, Teemu     HPK     57      54  2018     3\n",
       "117  Danforth, Justin   Lukko     56      60  2019     1\n",
       "118     Suomi, Eemeli   Ilves     57      57  2019     2\n",
       "119  Nättinen, Julius     JYP     54      55  2019     3\n",
       "\n",
       "[120 rows x 6 columns]"
      ]
     },
     "execution_count": 21,
     "metadata": {},
     "output_type": "execute_result"
    }
   ],
   "source": [
    "df_players = df_players.assign(\n",
    "    Rank=df_players.groupby(['Year'])['Points'].rank(\n",
    "        method='first', ascending=False\n",
    "    ).astype('int64')\n",
    ").query('Rank <= 3').reset_index(drop=True)\n",
    "df_players"
   ]
  },
  {
   "cell_type": "markdown",
   "id": "conventional-advertiser",
   "metadata": {},
   "source": [
    "Let's see how the number of points per game for the top scorer has varied year to year."
   ]
  },
  {
   "cell_type": "code",
   "execution_count": 22,
   "id": "studied-walker",
   "metadata": {},
   "outputs": [
    {
     "data": {
      "image/png": "[encoded data removed]",
      "text/plain": [
       "<Figure size 432x288 with 1 Axes>"
      ]
     },
     "metadata": {
      "needs_background": "light"
     },
     "output_type": "display_data"
    }
   ],
   "source": [
    "df_players[df_players.Rank == 1].assign(ppg=df_players.Points/df_players.Games).plot(x='Year', y='ppg');"
   ]
  },
  {
   "cell_type": "markdown",
   "id": "successful-campaign",
   "metadata": {},
   "source": [
    "The above graph is not surprising considering the development of modern hockey in which scoring has become increasingly difficult. It remains to add the top scorers as a feature to our DataFrame. We do this by indicating for each of the top 6 teams whether that team contains any of the rank 1-3 scorers. But first we have to remember to unify the team names."
   ]
  },
  {
   "cell_type": "code",
   "execution_count": 23,
   "id": "operating-behavior",
   "metadata": {},
   "outputs": [
    {
     "data": {
      "text/plain": [
       "set()"
      ]
     },
     "execution_count": 23,
     "metadata": {},
     "output_type": "execute_result"
    }
   ],
   "source": [
    "df_players.loc[df_players.Team == 'JyP HT', 'Team'] = 'JYP'\n",
    "set(df_players.Team.unique()) - set(df.Team.unique())"
   ]
  },
  {
   "cell_type": "markdown",
   "id": "plain-patio",
   "metadata": {},
   "source": [
    "Good, it looks like there are no erroneous team names in our player table."
   ]
  },
  {
   "cell_type": "markdown",
   "id": "tight-regression",
   "metadata": {},
   "source": [
    "### 1.3 Regular season game results<a id='1-3'></a>\n",
    "\n",
    "The final type of data that we look at are the results of each game from the regular season. We use this to create a feature, which indicates how many wins each team has in the final 3 games leading to playoffs. This should tell us whether any of the teams enter the playoffs \"on a streak\". Most of the preprocessing is done in analogous way to sections 1.1 and 1.2 so we won't comment on it as much here."
   ]
  },
  {
   "cell_type": "code",
   "execution_count": 24,
   "id": "muslim-excuse",
   "metadata": {},
   "outputs": [],
   "source": [
    "games_data_file_name = 'liiga_stats_games_20210530_121423.pkl'\n",
    "\n",
    "with open(games_data_file_name, 'rb') as f:\n",
    "    games_data = pickle.load(f)"
   ]
  },
  {
   "cell_type": "code",
   "execution_count": 25,
   "id": "placed-status",
   "metadata": {},
   "outputs": [
    {
     "data": {
      "text/html": [
       "<div>\n",
       "<style scoped>\n",
       "    .dataframe tbody tr th:only-of-type {\n",
       "        vertical-align: middle;\n",
       "    }\n",
       "\n",
       "    .dataframe tbody tr th {\n",
       "        vertical-align: top;\n",
       "    }\n",
       "\n",
       "    .dataframe thead th {\n",
       "        text-align: right;\n",
       "    }\n",
       "</style>\n",
       "<table border=\"1\" class=\"dataframe\">\n",
       "  <thead>\n",
       "    <tr style=\"text-align: right;\">\n",
       "      <th></th>\n",
       "      <th>Time</th>\n",
       "      <th>Home</th>\n",
       "      <th>Away</th>\n",
       "      <th>HG</th>\n",
       "      <th>AG</th>\n",
       "      <th>Year</th>\n",
       "      <th>Series</th>\n",
       "    </tr>\n",
       "    <tr>\n",
       "      <th>Index</th>\n",
       "      <th></th>\n",
       "      <th></th>\n",
       "      <th></th>\n",
       "      <th></th>\n",
       "      <th></th>\n",
       "      <th></th>\n",
       "      <th></th>\n",
       "    </tr>\n",
       "  </thead>\n",
       "  <tbody>\n",
       "    <tr>\n",
       "      <th>1</th>\n",
       "      <td>19800928</td>\n",
       "      <td>HIFK</td>\n",
       "      <td>Ilves</td>\n",
       "      <td>5</td>\n",
       "      <td>2</td>\n",
       "      <td>1980</td>\n",
       "      <td>runkosarja</td>\n",
       "    </tr>\n",
       "    <tr>\n",
       "      <th>2</th>\n",
       "      <td>19800928</td>\n",
       "      <td>Lukko</td>\n",
       "      <td>Jokerit</td>\n",
       "      <td>1</td>\n",
       "      <td>7</td>\n",
       "      <td>1980</td>\n",
       "      <td>runkosarja</td>\n",
       "    </tr>\n",
       "    <tr>\n",
       "      <th>3</th>\n",
       "      <td>19800928</td>\n",
       "      <td>Kiekkoreipas</td>\n",
       "      <td>Kärpät</td>\n",
       "      <td>3</td>\n",
       "      <td>4</td>\n",
       "      <td>1980</td>\n",
       "      <td>runkosarja</td>\n",
       "    </tr>\n",
       "    <tr>\n",
       "      <th>4</th>\n",
       "      <td>19800928</td>\n",
       "      <td>SaiPa</td>\n",
       "      <td>TPS</td>\n",
       "      <td>4</td>\n",
       "      <td>3</td>\n",
       "      <td>1980</td>\n",
       "      <td>runkosarja</td>\n",
       "    </tr>\n",
       "    <tr>\n",
       "      <th>5</th>\n",
       "      <td>19800928</td>\n",
       "      <td>Tappara</td>\n",
       "      <td>Ässät</td>\n",
       "      <td>7</td>\n",
       "      <td>5</td>\n",
       "      <td>1980</td>\n",
       "      <td>runkosarja</td>\n",
       "    </tr>\n",
       "  </tbody>\n",
       "</table>\n",
       "</div>"
      ],
      "text/plain": [
       "           Time          Home     Away HG AG  Year      Series\n",
       "Index                                                         \n",
       "1      19800928          HIFK    Ilves  5  2  1980  runkosarja\n",
       "2      19800928         Lukko  Jokerit  1  7  1980  runkosarja\n",
       "3      19800928  Kiekkoreipas   Kärpät  3  4  1980  runkosarja\n",
       "4      19800928         SaiPa      TPS  4  3  1980  runkosarja\n",
       "5      19800928       Tappara    Ässät  7  5  1980  runkosarja"
      ]
     },
     "execution_count": 25,
     "metadata": {},
     "output_type": "execute_result"
    }
   ],
   "source": [
    "games_data.head()"
   ]
  },
  {
   "cell_type": "code",
   "execution_count": 26,
   "id": "thousand-gothic",
   "metadata": {},
   "outputs": [
    {
     "data": {
      "text/html": [
       "<div>\n",
       "<style scoped>\n",
       "    .dataframe tbody tr th:only-of-type {\n",
       "        vertical-align: middle;\n",
       "    }\n",
       "\n",
       "    .dataframe tbody tr th {\n",
       "        vertical-align: top;\n",
       "    }\n",
       "\n",
       "    .dataframe thead th {\n",
       "        text-align: right;\n",
       "    }\n",
       "</style>\n",
       "<table border=\"1\" class=\"dataframe\">\n",
       "  <thead>\n",
       "    <tr style=\"text-align: right;\">\n",
       "      <th></th>\n",
       "      <th>Time</th>\n",
       "      <th>Home</th>\n",
       "      <th>Away</th>\n",
       "      <th>HG</th>\n",
       "      <th>AG</th>\n",
       "      <th>Year</th>\n",
       "    </tr>\n",
       "  </thead>\n",
       "  <tbody>\n",
       "    <tr>\n",
       "      <th>0</th>\n",
       "      <td>1980-09-28</td>\n",
       "      <td>HIFK</td>\n",
       "      <td>Ilves</td>\n",
       "      <td>5</td>\n",
       "      <td>2</td>\n",
       "      <td>1980</td>\n",
       "    </tr>\n",
       "    <tr>\n",
       "      <th>1</th>\n",
       "      <td>1980-09-28</td>\n",
       "      <td>Lukko</td>\n",
       "      <td>Jokerit</td>\n",
       "      <td>1</td>\n",
       "      <td>7</td>\n",
       "      <td>1980</td>\n",
       "    </tr>\n",
       "    <tr>\n",
       "      <th>2</th>\n",
       "      <td>1980-09-28</td>\n",
       "      <td>Kiekkoreipas</td>\n",
       "      <td>Kärpät</td>\n",
       "      <td>3</td>\n",
       "      <td>4</td>\n",
       "      <td>1980</td>\n",
       "    </tr>\n",
       "    <tr>\n",
       "      <th>3</th>\n",
       "      <td>1980-09-28</td>\n",
       "      <td>SaiPa</td>\n",
       "      <td>TPS</td>\n",
       "      <td>4</td>\n",
       "      <td>3</td>\n",
       "      <td>1980</td>\n",
       "    </tr>\n",
       "    <tr>\n",
       "      <th>4</th>\n",
       "      <td>1980-09-28</td>\n",
       "      <td>Tappara</td>\n",
       "      <td>Ässät</td>\n",
       "      <td>7</td>\n",
       "      <td>5</td>\n",
       "      <td>1980</td>\n",
       "    </tr>\n",
       "  </tbody>\n",
       "</table>\n",
       "</div>"
      ],
      "text/plain": [
       "        Time          Home     Away  HG  AG  Year\n",
       "0 1980-09-28          HIFK    Ilves   5   2  1980\n",
       "1 1980-09-28         Lukko  Jokerit   1   7  1980\n",
       "2 1980-09-28  Kiekkoreipas   Kärpät   3   4  1980\n",
       "3 1980-09-28         SaiPa      TPS   4   3  1980\n",
       "4 1980-09-28       Tappara    Ässät   7   5  1980"
      ]
     },
     "execution_count": 26,
     "metadata": {},
     "output_type": "execute_result"
    }
   ],
   "source": [
    "df_games = games_data.drop(columns=['Series']).reset_index(drop=True)\n",
    "num_cols = ['HG', 'AG', 'Year']\n",
    "str_cols = ['Home', 'Away']\n",
    "df_games[num_cols] = df_games[num_cols].apply(pd.to_numeric)\n",
    "df_games['Time'] = df_games['Time'].apply(pd.to_datetime)\n",
    "df_games[str_cols] = df_games[str_cols].astype('string')\n",
    "df_games.head()"
   ]
  },
  {
   "cell_type": "markdown",
   "id": "informational-burns",
   "metadata": {},
   "source": [
    "We want to create a function which, given a Team and a Year, returns a series with results for the final 3 games of the season for that team."
   ]
  },
  {
   "cell_type": "code",
   "execution_count": 27,
   "id": "accepting-blanket",
   "metadata": {},
   "outputs": [
    {
     "data": {
      "text/html": [
       "<div>\n",
       "<style scoped>\n",
       "    .dataframe tbody tr th:only-of-type {\n",
       "        vertical-align: middle;\n",
       "    }\n",
       "\n",
       "    .dataframe tbody tr th {\n",
       "        vertical-align: top;\n",
       "    }\n",
       "\n",
       "    .dataframe thead th {\n",
       "        text-align: right;\n",
       "    }\n",
       "</style>\n",
       "<table border=\"1\" class=\"dataframe\">\n",
       "  <thead>\n",
       "    <tr style=\"text-align: right;\">\n",
       "      <th></th>\n",
       "      <th>Time</th>\n",
       "      <th>Home</th>\n",
       "      <th>Away</th>\n",
       "      <th>HG</th>\n",
       "      <th>AG</th>\n",
       "      <th>Year</th>\n",
       "    </tr>\n",
       "  </thead>\n",
       "  <tbody>\n",
       "    <tr>\n",
       "      <th>1528</th>\n",
       "      <td>1988-03-27</td>\n",
       "      <td>Tappara</td>\n",
       "      <td>JyP</td>\n",
       "      <td>5</td>\n",
       "      <td>3</td>\n",
       "      <td>1987</td>\n",
       "    </tr>\n",
       "    <tr>\n",
       "      <th>1520</th>\n",
       "      <td>1988-03-24</td>\n",
       "      <td>HIFK</td>\n",
       "      <td>Tappara</td>\n",
       "      <td>6</td>\n",
       "      <td>4</td>\n",
       "      <td>1987</td>\n",
       "    </tr>\n",
       "    <tr>\n",
       "      <th>1517</th>\n",
       "      <td>1988-03-20</td>\n",
       "      <td>KooKoo</td>\n",
       "      <td>Tappara</td>\n",
       "      <td>3</td>\n",
       "      <td>7</td>\n",
       "      <td>1987</td>\n",
       "    </tr>\n",
       "  </tbody>\n",
       "</table>\n",
       "</div>"
      ],
      "text/plain": [
       "           Time     Home     Away  HG  AG  Year\n",
       "1528 1988-03-27  Tappara      JyP   5   3  1987\n",
       "1520 1988-03-24     HIFK  Tappara   6   4  1987\n",
       "1517 1988-03-20   KooKoo  Tappara   3   7  1987"
      ]
     },
     "execution_count": 27,
     "metadata": {},
     "output_type": "execute_result"
    }
   ],
   "source": [
    "game_ex = (df_games[(df_games.Year == 1987) & ((df_games.Home == 'Tappara') | (df_games.Away == 'Tappara'))]\n",
    "           .sort_values('Time', ascending=False).head(3))\n",
    "game_ex"
   ]
  },
  {
   "cell_type": "markdown",
   "id": "decreased-civilian",
   "metadata": {},
   "source": [
    "Now, for each of these games we need to decide whether Tappara won it or not. We treat draws and losses equally."
   ]
  },
  {
   "cell_type": "code",
   "execution_count": 28,
   "id": "geological-oriental",
   "metadata": {},
   "outputs": [
    {
     "data": {
      "text/plain": [
       "G1    1\n",
       "G2    0\n",
       "G3    1\n",
       "dtype: int64"
      ]
     },
     "execution_count": 28,
     "metadata": {},
     "output_type": "execute_result"
    }
   ],
   "source": [
    "def win_from_game(r, team):\n",
    "    if (r.Home == team and r.HG > r.AG) or (r.Away == team and r.AG > r.HG):\n",
    "        return 1\n",
    "    else:\n",
    "        return 0\n",
    "\n",
    "def wins_for_year(df, team, year):\n",
    "    # Extract a subtable with the last 3 games for the given team and year:\n",
    "    games = (df[(df.Year == year) & ((df.Home == team) | (df.Away == team))]\n",
    "             .sort_values('Time', ascending=False).head(3))\n",
    "    games.index = ['G1', 'G2', 'G3']\n",
    "    games = games.apply(lambda x: win_from_game(x, team=team), axis=1)\n",
    "    return games\n",
    "    \n",
    "wins_for_year(df_games, 'Tappara', 1987)"
   ]
  },
  {
   "cell_type": "markdown",
   "id": "concrete-circumstances",
   "metadata": {},
   "source": [
    "Here `G1` corresponds to the result (1 for win) of the last game of the season, `G2` the penultimate game and so on."
   ]
  },
  {
   "cell_type": "markdown",
   "id": "encouraging-begin",
   "metadata": {},
   "source": [
    "### 1.4 Target variable<a id='1-4'></a>\n",
    "\n",
    "Finally we have to create the target variable (i.e. the champion of each year) that we want to predict. We'll have to rely on Wikipedia for this since this data is surprisingly not available in a uniform format on Liiga's website. For this we'll do a simple scrape with `BeautifulSoup` (compare how much more straightforward this is versus what we had to do with `LiigaScraper` in `liiga_scraper.py`)."
   ]
  },
  {
   "cell_type": "code",
   "execution_count": 29,
   "id": "coral-distance",
   "metadata": {},
   "outputs": [
    {
     "name": "stdout",
     "output_type": "stream",
     "text": [
      "Error for 2021 - Lukko.\n"
     ]
    }
   ],
   "source": [
    "w_html = requests.get('https://en.wikipedia.org/wiki/Liiga')\n",
    "soup = BeautifulSoup(w_html.text, 'html.parser')\n",
    "\n",
    "header = soup.find('span', id='Previous_SM-liiga/Liiga_playoff_winners_(Finnish_Champions)')\n",
    "winners_table = header.find_next('table')\n",
    "\n",
    "y = []\n",
    "for entry in winners_table.find_all('li'):\n",
    "    try:\n",
    "        year, team = entry.get_text().split(' – ')  # Notice the dash is \\u2013\n",
    "        y.append([year, team])\n",
    "    except ValueError:\n",
    "        # Usually happens if some user modified the website with a different separator\n",
    "        print(f\"Error for {entry.get_text()}.\")\n",
    "        next"
   ]
  },
  {
   "cell_type": "code",
   "execution_count": 30,
   "id": "critical-import",
   "metadata": {},
   "outputs": [
    {
     "data": {
      "text/html": [
       "<div>\n",
       "<style scoped>\n",
       "    .dataframe tbody tr th:only-of-type {\n",
       "        vertical-align: middle;\n",
       "    }\n",
       "\n",
       "    .dataframe tbody tr th {\n",
       "        vertical-align: top;\n",
       "    }\n",
       "\n",
       "    .dataframe thead th {\n",
       "        text-align: right;\n",
       "    }\n",
       "</style>\n",
       "<table border=\"1\" class=\"dataframe\">\n",
       "  <thead>\n",
       "    <tr style=\"text-align: right;\">\n",
       "      <th></th>\n",
       "      <th>Year</th>\n",
       "      <th>Team</th>\n",
       "    </tr>\n",
       "  </thead>\n",
       "  <tbody>\n",
       "    <tr>\n",
       "      <th>40</th>\n",
       "      <td>2016</td>\n",
       "      <td>Tappara</td>\n",
       "    </tr>\n",
       "    <tr>\n",
       "      <th>41</th>\n",
       "      <td>2017</td>\n",
       "      <td>Tappara</td>\n",
       "    </tr>\n",
       "    <tr>\n",
       "      <th>42</th>\n",
       "      <td>2018</td>\n",
       "      <td>Kärpät</td>\n",
       "    </tr>\n",
       "    <tr>\n",
       "      <th>43</th>\n",
       "      <td>2019</td>\n",
       "      <td>HPK</td>\n",
       "    </tr>\n",
       "    <tr>\n",
       "      <th>44</th>\n",
       "      <td>2020</td>\n",
       "      <td>(cancelled)</td>\n",
       "    </tr>\n",
       "  </tbody>\n",
       "</table>\n",
       "</div>"
      ],
      "text/plain": [
       "    Year         Team\n",
       "40  2016      Tappara\n",
       "41  2017      Tappara\n",
       "42  2018       Kärpät\n",
       "43  2019          HPK\n",
       "44  2020  (cancelled)"
      ]
     },
     "execution_count": 30,
     "metadata": {},
     "output_type": "execute_result"
    }
   ],
   "source": [
    "y = pd.DataFrame(y, columns=['Year', 'Team'])\n",
    "y.tail()"
   ]
  },
  {
   "cell_type": "code",
   "execution_count": 31,
   "id": "musical-rhythm",
   "metadata": {},
   "outputs": [
    {
     "data": {
      "text/plain": [
       "Year     int64\n",
       "Team    string\n",
       "dtype: object"
      ]
     },
     "execution_count": 31,
     "metadata": {},
     "output_type": "execute_result"
    }
   ],
   "source": [
    "y.Year = y.Year.astype('int')\n",
    "y.Team = y.Team.astype('string')\n",
    "y.dtypes"
   ]
  },
  {
   "cell_type": "markdown",
   "id": "alike-evanescence",
   "metadata": {},
   "source": [
    "After inspecting the data from Wikipedia, we spot a small \"gotcha\": we have chosen to label our seasons by the year in which they begin, but in the data we just scraped the winner is given for the year in which the season finishes. We'll fix that below and also drop row 44 which is our missing data point that we eventually want to predict (winner for the season 2019)."
   ]
  },
  {
   "cell_type": "code",
   "execution_count": 32,
   "id": "sitting-witch",
   "metadata": {},
   "outputs": [],
   "source": [
    "y.drop(y.index[y.Year == 2020], inplace=True)\n",
    "y.Year = y.Year - 1\n",
    "y = y[y.Year >= 1980].reset_index(drop=True)\n",
    "y = y.set_index('Year')"
   ]
  },
  {
   "cell_type": "markdown",
   "id": "blocked-junction",
   "metadata": {},
   "source": [
    "Finally we create the actual feature we want to predict, i.e. the regular season rank of the winner:"
   ]
  },
  {
   "cell_type": "code",
   "execution_count": 33,
   "id": "sophisticated-cause",
   "metadata": {
    "scrolled": true
   },
   "outputs": [
    {
     "data": {
      "text/html": [
       "<div>\n",
       "<style scoped>\n",
       "    .dataframe tbody tr th:only-of-type {\n",
       "        vertical-align: middle;\n",
       "    }\n",
       "\n",
       "    .dataframe tbody tr th {\n",
       "        vertical-align: top;\n",
       "    }\n",
       "\n",
       "    .dataframe thead th {\n",
       "        text-align: right;\n",
       "    }\n",
       "</style>\n",
       "<table border=\"1\" class=\"dataframe\">\n",
       "  <thead>\n",
       "    <tr style=\"text-align: right;\">\n",
       "      <th></th>\n",
       "      <th>Team</th>\n",
       "      <th>SeasonRank</th>\n",
       "    </tr>\n",
       "    <tr>\n",
       "      <th>Year</th>\n",
       "      <th></th>\n",
       "      <th></th>\n",
       "    </tr>\n",
       "  </thead>\n",
       "  <tbody>\n",
       "    <tr>\n",
       "      <th>1980</th>\n",
       "      <td>Kärpät</td>\n",
       "      <td>3</td>\n",
       "    </tr>\n",
       "    <tr>\n",
       "      <th>1981</th>\n",
       "      <td>Tappara</td>\n",
       "      <td>3</td>\n",
       "    </tr>\n",
       "    <tr>\n",
       "      <th>1982</th>\n",
       "      <td>HIFK</td>\n",
       "      <td>2</td>\n",
       "    </tr>\n",
       "    <tr>\n",
       "      <th>1983</th>\n",
       "      <td>Tappara</td>\n",
       "      <td>1</td>\n",
       "    </tr>\n",
       "    <tr>\n",
       "      <th>1984</th>\n",
       "      <td>Ilves</td>\n",
       "      <td>3</td>\n",
       "    </tr>\n",
       "  </tbody>\n",
       "</table>\n",
       "</div>"
      ],
      "text/plain": [
       "         Team  SeasonRank\n",
       "Year                     \n",
       "1980   Kärpät           3\n",
       "1981  Tappara           3\n",
       "1982     HIFK           2\n",
       "1983  Tappara           1\n",
       "1984    Ilves           3"
      ]
     },
     "execution_count": 33,
     "metadata": {},
     "output_type": "execute_result"
    }
   ],
   "source": [
    "y['SeasonRank'] = top6_by_year.apply(lambda x: x == y.loc[x.name].Team, axis=1).idxmax(axis=1)\n",
    "y.head()"
   ]
  }
 ],
 "metadata": {
  "kernelspec": {
   "display_name": "Python 3",
   "language": "python",
   "name": "python3"
  },
  "language_info": {
   "codemirror_mode": {
    "name": "ipython",
    "version": 3
   },
   "file_extension": ".py",
   "mimetype": "text/x-python",
   "name": "python",
   "nbconvert_exporter": "python",
   "pygments_lexer": "ipython3",
   "version": "3.9.1"
  }
 },
 "nbformat": 4,
 "nbformat_minor": 5
}
